{
 "cells": [
  {
   "cell_type": "markdown",
   "id": "180d9f91-acbc-46ae-bbc1-f38610521107",
   "metadata": {},
   "source": [
    "# JOBMadrid | Clasificador de erupciones volcánicas"
   ]
  },
  {
   "cell_type": "markdown",
   "id": "c00fc2a8-c0e7-47c7-8804-6c820dbdcc9f",
   "metadata": {},
   "source": [
    "Objetivo: realizar un modelo predictivo basado en Random Forests que permita conocer el tipo de erupción que tendrá un volcán en función de las vibraciones medidas por los sensores."
   ]
  },
  {
   "cell_type": "code",
   "execution_count": 165,
   "id": "9c6c2490-4595-498b-be00-9dee24f7d80c",
   "metadata": {},
   "outputs": [],
   "source": [
    "import pandas as pd\n",
    "import numpy as np\n",
    "import matplotlib.pyplot as plt\n",
    "import seaborn as sns\n",
    "import statsmodels.api as sm\n",
    "from sklearn.model_selection import train_test_split, KFold, GridSearchCV, RandomizedSearchCV\n",
    "from sklearn.ensemble import RandomForestClassifier\n",
    "import sklearn.metrics\n",
    "from sklearn.decomposition import PCA\n",
    "from sklearn.metrics import confusion_matrix, accuracy_score, roc_auc_score, f1_score, recall_score, precision_score, mean_squared_error"
   ]
  },
  {
   "cell_type": "markdown",
   "id": "3f5db848-f191-4ba6-99d1-1df7ab809f74",
   "metadata": {},
   "source": [
    "Cargamos los datasets train y test que muestran los datos de las 6 features y la columna target con las labels para cada conjunto de medidas de los sensores, dentro de las posibles 5"
   ]
  },
  {
   "cell_type": "code",
   "execution_count": 166,
   "id": "d5f4756b-2a8f-4064-8c59-f739eef9c940",
   "metadata": {},
   "outputs": [
    {
     "data": {
      "text/html": [
       "<div>\n",
       "<style scoped>\n",
       "    .dataframe tbody tr th:only-of-type {\n",
       "        vertical-align: middle;\n",
       "    }\n",
       "\n",
       "    .dataframe tbody tr th {\n",
       "        vertical-align: top;\n",
       "    }\n",
       "\n",
       "    .dataframe thead th {\n",
       "        text-align: right;\n",
       "    }\n",
       "</style>\n",
       "<table border=\"1\" class=\"dataframe\">\n",
       "  <thead>\n",
       "    <tr style=\"text-align: right;\">\n",
       "      <th></th>\n",
       "      <th>feature1</th>\n",
       "      <th>feature2</th>\n",
       "      <th>feature3</th>\n",
       "      <th>feature4</th>\n",
       "      <th>feature5</th>\n",
       "      <th>feature6</th>\n",
       "      <th>target</th>\n",
       "    </tr>\n",
       "  </thead>\n",
       "  <tbody>\n",
       "    <tr>\n",
       "      <th>0</th>\n",
       "      <td>0.474335</td>\n",
       "      <td>0.881640</td>\n",
       "      <td>-2.050543</td>\n",
       "      <td>-1.251935</td>\n",
       "      <td>-1.035151</td>\n",
       "      <td>-1.934367</td>\n",
       "      <td>4</td>\n",
       "    </tr>\n",
       "    <tr>\n",
       "      <th>1</th>\n",
       "      <td>-1.034675</td>\n",
       "      <td>1.741801</td>\n",
       "      <td>-1.660629</td>\n",
       "      <td>-1.555989</td>\n",
       "      <td>-0.337553</td>\n",
       "      <td>-2.473838</td>\n",
       "      <td>0</td>\n",
       "    </tr>\n",
       "    <tr>\n",
       "      <th>2</th>\n",
       "      <td>-0.563221</td>\n",
       "      <td>-0.688381</td>\n",
       "      <td>-0.318415</td>\n",
       "      <td>-1.845172</td>\n",
       "      <td>0.352366</td>\n",
       "      <td>-0.912928</td>\n",
       "      <td>1</td>\n",
       "    </tr>\n",
       "    <tr>\n",
       "      <th>3</th>\n",
       "      <td>-1.268179</td>\n",
       "      <td>2.770688</td>\n",
       "      <td>1.054193</td>\n",
       "      <td>2.830389</td>\n",
       "      <td>0.395093</td>\n",
       "      <td>0.677715</td>\n",
       "      <td>3</td>\n",
       "    </tr>\n",
       "    <tr>\n",
       "      <th>4</th>\n",
       "      <td>-1.216380</td>\n",
       "      <td>-0.391267</td>\n",
       "      <td>-2.898931</td>\n",
       "      <td>-0.913074</td>\n",
       "      <td>-2.171857</td>\n",
       "      <td>-2.367490</td>\n",
       "      <td>0</td>\n",
       "    </tr>\n",
       "    <tr>\n",
       "      <th>...</th>\n",
       "      <td>...</td>\n",
       "      <td>...</td>\n",
       "      <td>...</td>\n",
       "      <td>...</td>\n",
       "      <td>...</td>\n",
       "      <td>...</td>\n",
       "      <td>...</td>\n",
       "    </tr>\n",
       "    <tr>\n",
       "      <th>2095</th>\n",
       "      <td>-0.947002</td>\n",
       "      <td>0.174969</td>\n",
       "      <td>-0.180249</td>\n",
       "      <td>0.118236</td>\n",
       "      <td>-0.143420</td>\n",
       "      <td>-0.359509</td>\n",
       "      <td>0</td>\n",
       "    </tr>\n",
       "    <tr>\n",
       "      <th>2096</th>\n",
       "      <td>-1.224148</td>\n",
       "      <td>0.029956</td>\n",
       "      <td>0.536684</td>\n",
       "      <td>0.888406</td>\n",
       "      <td>0.119460</td>\n",
       "      <td>0.378946</td>\n",
       "      <td>1</td>\n",
       "    </tr>\n",
       "    <tr>\n",
       "      <th>2097</th>\n",
       "      <td>-0.847593</td>\n",
       "      <td>1.538574</td>\n",
       "      <td>0.962409</td>\n",
       "      <td>1.966467</td>\n",
       "      <td>0.379934</td>\n",
       "      <td>0.737907</td>\n",
       "      <td>3</td>\n",
       "    </tr>\n",
       "    <tr>\n",
       "      <th>2098</th>\n",
       "      <td>1.472437</td>\n",
       "      <td>1.187695</td>\n",
       "      <td>1.015766</td>\n",
       "      <td>-1.103522</td>\n",
       "      <td>1.586722</td>\n",
       "      <td>0.182569</td>\n",
       "      <td>4</td>\n",
       "    </tr>\n",
       "    <tr>\n",
       "      <th>2099</th>\n",
       "      <td>-0.083489</td>\n",
       "      <td>-1.194784</td>\n",
       "      <td>-0.389204</td>\n",
       "      <td>-2.369081</td>\n",
       "      <td>0.382413</td>\n",
       "      <td>-0.900237</td>\n",
       "      <td>3</td>\n",
       "    </tr>\n",
       "  </tbody>\n",
       "</table>\n",
       "<p>2100 rows × 7 columns</p>\n",
       "</div>"
      ],
      "text/plain": [
       "      feature1  feature2  feature3  feature4  feature5  feature6  target\n",
       "0     0.474335  0.881640 -2.050543 -1.251935 -1.035151 -1.934367       4\n",
       "1    -1.034675  1.741801 -1.660629 -1.555989 -0.337553 -2.473838       0\n",
       "2    -0.563221 -0.688381 -0.318415 -1.845172  0.352366 -0.912928       1\n",
       "3    -1.268179  2.770688  1.054193  2.830389  0.395093  0.677715       3\n",
       "4    -1.216380 -0.391267 -2.898931 -0.913074 -2.171857 -2.367490       0\n",
       "...        ...       ...       ...       ...       ...       ...     ...\n",
       "2095 -0.947002  0.174969 -0.180249  0.118236 -0.143420 -0.359509       0\n",
       "2096 -1.224148  0.029956  0.536684  0.888406  0.119460  0.378946       1\n",
       "2097 -0.847593  1.538574  0.962409  1.966467  0.379934  0.737907       3\n",
       "2098  1.472437  1.187695  1.015766 -1.103522  1.586722  0.182569       4\n",
       "2099 -0.083489 -1.194784 -0.389204 -2.369081  0.382413 -0.900237       3\n",
       "\n",
       "[2100 rows x 7 columns]"
      ]
     },
     "execution_count": 166,
     "metadata": {},
     "output_type": "execute_result"
    }
   ],
   "source": [
    "df = pd.read_csv('jm_train.csv')\n",
    "dfXtest = pd.read_csv('jm_X_test.csv')\n",
    "df"
   ]
  },
  {
   "cell_type": "code",
   "execution_count": 105,
   "id": "93555816-c78b-4648-a29f-095c2658e05d",
   "metadata": {},
   "outputs": [
    {
     "data": {
      "text/html": [
       "<div>\n",
       "<style scoped>\n",
       "    .dataframe tbody tr th:only-of-type {\n",
       "        vertical-align: middle;\n",
       "    }\n",
       "\n",
       "    .dataframe tbody tr th {\n",
       "        vertical-align: top;\n",
       "    }\n",
       "\n",
       "    .dataframe thead th {\n",
       "        text-align: right;\n",
       "    }\n",
       "</style>\n",
       "<table border=\"1\" class=\"dataframe\">\n",
       "  <thead>\n",
       "    <tr style=\"text-align: right;\">\n",
       "      <th></th>\n",
       "      <th>feature1</th>\n",
       "      <th>feature2</th>\n",
       "      <th>feature3</th>\n",
       "      <th>feature4</th>\n",
       "      <th>feature5</th>\n",
       "      <th>feature6</th>\n",
       "    </tr>\n",
       "  </thead>\n",
       "  <tbody>\n",
       "    <tr>\n",
       "      <th>0</th>\n",
       "      <td>0.943723</td>\n",
       "      <td>-2.985473</td>\n",
       "      <td>-0.938218</td>\n",
       "      <td>3.580261</td>\n",
       "      <td>-3.038106</td>\n",
       "      <td>2.080338</td>\n",
       "    </tr>\n",
       "    <tr>\n",
       "      <th>1</th>\n",
       "      <td>-0.899819</td>\n",
       "      <td>1.295568</td>\n",
       "      <td>1.274513</td>\n",
       "      <td>0.718186</td>\n",
       "      <td>1.117035</td>\n",
       "      <td>0.463068</td>\n",
       "    </tr>\n",
       "    <tr>\n",
       "      <th>2</th>\n",
       "      <td>0.293281</td>\n",
       "      <td>-0.099317</td>\n",
       "      <td>1.874902</td>\n",
       "      <td>-0.589582</td>\n",
       "      <td>1.828441</td>\n",
       "      <td>1.011596</td>\n",
       "    </tr>\n",
       "    <tr>\n",
       "      <th>3</th>\n",
       "      <td>-1.134804</td>\n",
       "      <td>0.888585</td>\n",
       "      <td>-1.464499</td>\n",
       "      <td>-1.183056</td>\n",
       "      <td>-0.525729</td>\n",
       "      <td>-1.963822</td>\n",
       "    </tr>\n",
       "    <tr>\n",
       "      <th>4</th>\n",
       "      <td>-0.909240</td>\n",
       "      <td>1.575797</td>\n",
       "      <td>0.697212</td>\n",
       "      <td>1.197092</td>\n",
       "      <td>0.486185</td>\n",
       "      <td>0.222644</td>\n",
       "    </tr>\n",
       "    <tr>\n",
       "      <th>...</th>\n",
       "      <td>...</td>\n",
       "      <td>...</td>\n",
       "      <td>...</td>\n",
       "      <td>...</td>\n",
       "      <td>...</td>\n",
       "      <td>...</td>\n",
       "    </tr>\n",
       "    <tr>\n",
       "      <th>895</th>\n",
       "      <td>0.196663</td>\n",
       "      <td>-0.866822</td>\n",
       "      <td>-1.132836</td>\n",
       "      <td>-0.700726</td>\n",
       "      <td>-0.886717</td>\n",
       "      <td>-0.680351</td>\n",
       "    </tr>\n",
       "    <tr>\n",
       "      <th>896</th>\n",
       "      <td>1.306644</td>\n",
       "      <td>0.543675</td>\n",
       "      <td>0.555275</td>\n",
       "      <td>-0.518374</td>\n",
       "      <td>0.796236</td>\n",
       "      <td>0.297632</td>\n",
       "    </tr>\n",
       "    <tr>\n",
       "      <th>897</th>\n",
       "      <td>-1.009089</td>\n",
       "      <td>0.359536</td>\n",
       "      <td>-2.253087</td>\n",
       "      <td>0.125687</td>\n",
       "      <td>-1.881437</td>\n",
       "      <td>-1.704497</td>\n",
       "    </tr>\n",
       "    <tr>\n",
       "      <th>898</th>\n",
       "      <td>-0.339431</td>\n",
       "      <td>-0.560891</td>\n",
       "      <td>-0.256911</td>\n",
       "      <td>-1.576351</td>\n",
       "      <td>0.317480</td>\n",
       "      <td>-0.742085</td>\n",
       "    </tr>\n",
       "    <tr>\n",
       "      <th>899</th>\n",
       "      <td>1.610331</td>\n",
       "      <td>0.260853</td>\n",
       "      <td>-0.691291</td>\n",
       "      <td>-1.572666</td>\n",
       "      <td>0.096514</td>\n",
       "      <td>-0.750690</td>\n",
       "    </tr>\n",
       "  </tbody>\n",
       "</table>\n",
       "<p>900 rows × 6 columns</p>\n",
       "</div>"
      ],
      "text/plain": [
       "     feature1  feature2  feature3  feature4  feature5  feature6\n",
       "0    0.943723 -2.985473 -0.938218  3.580261 -3.038106  2.080338\n",
       "1   -0.899819  1.295568  1.274513  0.718186  1.117035  0.463068\n",
       "2    0.293281 -0.099317  1.874902 -0.589582  1.828441  1.011596\n",
       "3   -1.134804  0.888585 -1.464499 -1.183056 -0.525729 -1.963822\n",
       "4   -0.909240  1.575797  0.697212  1.197092  0.486185  0.222644\n",
       "..        ...       ...       ...       ...       ...       ...\n",
       "895  0.196663 -0.866822 -1.132836 -0.700726 -0.886717 -0.680351\n",
       "896  1.306644  0.543675  0.555275 -0.518374  0.796236  0.297632\n",
       "897 -1.009089  0.359536 -2.253087  0.125687 -1.881437 -1.704497\n",
       "898 -0.339431 -0.560891 -0.256911 -1.576351  0.317480 -0.742085\n",
       "899  1.610331  0.260853 -0.691291 -1.572666  0.096514 -0.750690\n",
       "\n",
       "[900 rows x 6 columns]"
      ]
     },
     "execution_count": 105,
     "metadata": {},
     "output_type": "execute_result"
    }
   ],
   "source": [
    "dfXtest"
   ]
  },
  {
   "cell_type": "markdown",
   "id": "36b8e043-9fea-4e61-bc66-216d91be8c52",
   "metadata": {},
   "source": [
    "### Estudiamos los datos del dataset"
   ]
  },
  {
   "cell_type": "code",
   "execution_count": 5,
   "id": "1e02103b-2dde-4552-a42f-6d28fb29c583",
   "metadata": {},
   "outputs": [
    {
     "data": {
      "text/plain": [
       "feature1    0.0\n",
       "feature2    0.0\n",
       "feature3    0.0\n",
       "feature4    0.0\n",
       "feature5    0.0\n",
       "feature6    0.0\n",
       "target      0.0\n",
       "dtype: float64"
      ]
     },
     "execution_count": 5,
     "metadata": {},
     "output_type": "execute_result"
    }
   ],
   "source": [
    "# Porcentaje de NaNs en cada columna\n",
    "df.isna().sum()/len(df)*100 "
   ]
  },
  {
   "cell_type": "code",
   "execution_count": 4,
   "id": "c29d8a62-05d9-452a-8686-a0a1649d6775",
   "metadata": {},
   "outputs": [
    {
     "name": "stdout",
     "output_type": "stream",
     "text": [
      "<class 'pandas.core.frame.DataFrame'>\n",
      "RangeIndex: 2100 entries, 0 to 2099\n",
      "Data columns (total 7 columns):\n",
      " #   Column    Non-Null Count  Dtype  \n",
      "---  ------    --------------  -----  \n",
      " 0   feature1  2100 non-null   float64\n",
      " 1   feature2  2100 non-null   float64\n",
      " 2   feature3  2100 non-null   float64\n",
      " 3   feature4  2100 non-null   float64\n",
      " 4   feature5  2100 non-null   float64\n",
      " 5   feature6  2100 non-null   float64\n",
      " 6   target    2100 non-null   int64  \n",
      "dtypes: float64(6), int64(1)\n",
      "memory usage: 115.0 KB\n"
     ]
    }
   ],
   "source": [
    "df.info()"
   ]
  },
  {
   "cell_type": "markdown",
   "id": "842fa84c-f305-42f6-bb78-bf2ae3ecb954",
   "metadata": {},
   "source": [
    "Vemos que no hay NaNs en el dataframe y que todos los datos son numéricos. No tenemos datos nulos o extraños que tengamos que imputar o que nos hagan eliminar filas o columnas."
   ]
  },
  {
   "cell_type": "code",
   "execution_count": 6,
   "id": "444a9641-6fac-416b-823c-f9d53bb706a9",
   "metadata": {},
   "outputs": [
    {
     "data": {
      "text/html": [
       "<div>\n",
       "<style scoped>\n",
       "    .dataframe tbody tr th:only-of-type {\n",
       "        vertical-align: middle;\n",
       "    }\n",
       "\n",
       "    .dataframe tbody tr th {\n",
       "        vertical-align: top;\n",
       "    }\n",
       "\n",
       "    .dataframe thead th {\n",
       "        text-align: right;\n",
       "    }\n",
       "</style>\n",
       "<table border=\"1\" class=\"dataframe\">\n",
       "  <thead>\n",
       "    <tr style=\"text-align: right;\">\n",
       "      <th></th>\n",
       "      <th>feature1</th>\n",
       "      <th>feature2</th>\n",
       "      <th>feature3</th>\n",
       "      <th>feature4</th>\n",
       "      <th>feature5</th>\n",
       "      <th>feature6</th>\n",
       "      <th>target</th>\n",
       "    </tr>\n",
       "  </thead>\n",
       "  <tbody>\n",
       "    <tr>\n",
       "      <th>count</th>\n",
       "      <td>2100.000000</td>\n",
       "      <td>2100.000000</td>\n",
       "      <td>2100.000000</td>\n",
       "      <td>2100.000000</td>\n",
       "      <td>2100.000000</td>\n",
       "      <td>2100.000000</td>\n",
       "      <td>2100.000000</td>\n",
       "    </tr>\n",
       "    <tr>\n",
       "      <th>mean</th>\n",
       "      <td>-0.204656</td>\n",
       "      <td>0.199249</td>\n",
       "      <td>-0.378140</td>\n",
       "      <td>-0.206425</td>\n",
       "      <td>-0.186419</td>\n",
       "      <td>-0.433229</td>\n",
       "      <td>1.980476</td>\n",
       "    </tr>\n",
       "    <tr>\n",
       "      <th>std</th>\n",
       "      <td>1.543613</td>\n",
       "      <td>1.614024</td>\n",
       "      <td>1.450548</td>\n",
       "      <td>1.442225</td>\n",
       "      <td>1.501573</td>\n",
       "      <td>1.188791</td>\n",
       "      <td>1.410537</td>\n",
       "    </tr>\n",
       "    <tr>\n",
       "      <th>min</th>\n",
       "      <td>-6.683655</td>\n",
       "      <td>-5.383371</td>\n",
       "      <td>-6.147055</td>\n",
       "      <td>-5.653594</td>\n",
       "      <td>-5.912521</td>\n",
       "      <td>-4.433189</td>\n",
       "      <td>0.000000</td>\n",
       "    </tr>\n",
       "    <tr>\n",
       "      <th>25%</th>\n",
       "      <td>-1.171340</td>\n",
       "      <td>-0.877386</td>\n",
       "      <td>-1.365990</td>\n",
       "      <td>-1.259403</td>\n",
       "      <td>-1.211685</td>\n",
       "      <td>-1.131944</td>\n",
       "      <td>1.000000</td>\n",
       "    </tr>\n",
       "    <tr>\n",
       "      <th>50%</th>\n",
       "      <td>-0.443868</td>\n",
       "      <td>0.320507</td>\n",
       "      <td>-0.439745</td>\n",
       "      <td>-0.176504</td>\n",
       "      <td>-0.195751</td>\n",
       "      <td>-0.406754</td>\n",
       "      <td>2.000000</td>\n",
       "    </tr>\n",
       "    <tr>\n",
       "      <th>75%</th>\n",
       "      <td>0.890023</td>\n",
       "      <td>1.321430</td>\n",
       "      <td>0.662898</td>\n",
       "      <td>0.866879</td>\n",
       "      <td>0.851843</td>\n",
       "      <td>0.348593</td>\n",
       "      <td>3.000000</td>\n",
       "    </tr>\n",
       "    <tr>\n",
       "      <th>max</th>\n",
       "      <td>4.565547</td>\n",
       "      <td>6.700133</td>\n",
       "      <td>4.157518</td>\n",
       "      <td>4.371912</td>\n",
       "      <td>5.068783</td>\n",
       "      <td>4.016324</td>\n",
       "      <td>4.000000</td>\n",
       "    </tr>\n",
       "  </tbody>\n",
       "</table>\n",
       "</div>"
      ],
      "text/plain": [
       "          feature1     feature2     feature3     feature4     feature5  \\\n",
       "count  2100.000000  2100.000000  2100.000000  2100.000000  2100.000000   \n",
       "mean     -0.204656     0.199249    -0.378140    -0.206425    -0.186419   \n",
       "std       1.543613     1.614024     1.450548     1.442225     1.501573   \n",
       "min      -6.683655    -5.383371    -6.147055    -5.653594    -5.912521   \n",
       "25%      -1.171340    -0.877386    -1.365990    -1.259403    -1.211685   \n",
       "50%      -0.443868     0.320507    -0.439745    -0.176504    -0.195751   \n",
       "75%       0.890023     1.321430     0.662898     0.866879     0.851843   \n",
       "max       4.565547     6.700133     4.157518     4.371912     5.068783   \n",
       "\n",
       "          feature6       target  \n",
       "count  2100.000000  2100.000000  \n",
       "mean     -0.433229     1.980476  \n",
       "std       1.188791     1.410537  \n",
       "min      -4.433189     0.000000  \n",
       "25%      -1.131944     1.000000  \n",
       "50%      -0.406754     2.000000  \n",
       "75%       0.348593     3.000000  \n",
       "max       4.016324     4.000000  "
      ]
     },
     "execution_count": 6,
     "metadata": {},
     "output_type": "execute_result"
    }
   ],
   "source": [
    "df.describe()"
   ]
  },
  {
   "cell_type": "markdown",
   "id": "5dd392c7-47fe-4abb-b448-24255c40eede",
   "metadata": {},
   "source": [
    "Los datos de las 6 features están en una escala relativa entre ellos muy cercana, por lo que no sería necesario escalar. Además, el RandomForest no necesita que escalemos valores."
   ]
  },
  {
   "cell_type": "markdown",
   "id": "743dc25b-8b66-4e89-aea3-28c63778689c",
   "metadata": {},
   "source": [
    "Separamos el dataframe en X e y:"
   ]
  },
  {
   "cell_type": "code",
   "execution_count": 220,
   "id": "25a6ed8d-a00a-444b-9b51-363887fce3b9",
   "metadata": {},
   "outputs": [],
   "source": [
    "X = df.drop(\"target\",axis=1)\n",
    "y = df[\"target\"]"
   ]
  },
  {
   "cell_type": "markdown",
   "id": "f1bc96df-bd3e-4265-9469-62616439299c",
   "metadata": {},
   "source": [
    "Ploteamos gráficos de boxplot y violín de los datos de cada feature para ver su distribución:"
   ]
  },
  {
   "cell_type": "code",
   "execution_count": 227,
   "id": "38510113-4b42-4457-9d2a-a6ed7f7c883d",
   "metadata": {},
   "outputs": [
    {
     "data": {
      "image/png": "[encoded data removed]",
      "text/plain": [
       "<Figure size 864x432 with 1 Axes>"
      ]
     },
     "metadata": {
      "needs_background": "light"
     },
     "output_type": "display_data"
    },
    {
     "data": {
      "image/png": "[encoded data removed]",
      "text/plain": [
       "<Figure size 864x432 with 1 Axes>"
      ]
     },
     "metadata": {
      "needs_background": "light"
     },
     "output_type": "display_data"
    }
   ],
   "source": [
    "plt.figure(figsize=(12,6))\n",
    "plt.violinplot(X)\n",
    "\n",
    "plt.figure(figsize=(12,6))\n",
    "plt.boxplot(X)\n",
    "\n",
    "plt.show()"
   ]
  },
  {
   "cell_type": "markdown",
   "id": "1a9254eb-a28b-4c90-b482-7776dfdecb46",
   "metadata": {},
   "source": [
    "Procedemos a hacer OLS de forma iterativa, comparando cada columna de las features con el resto de features para ver si tenemos columnas muy relacionadas entre sí que no aportarían al modelo a la hora de predecir el target. Es decir, buscamos si tenemos columnas que sean combinación lineal de las otras."
   ]
  },
  {
   "cell_type": "code",
   "execution_count": 13,
   "id": "bf0a0722-78a9-4893-b1c8-91169c67aac6",
   "metadata": {
    "scrolled": true,
    "tags": []
   },
   "outputs": [
    {
     "name": "stdout",
     "output_type": "stream",
     "text": [
      "feature1\n",
      "                                 OLS Regression Results                                \n",
      "=======================================================================================\n",
      "Dep. Variable:               feature1   R-squared (uncentered):                   1.000\n",
      "Model:                            OLS   Adj. R-squared (uncentered):              1.000\n",
      "Method:                 Least Squares   F-statistic:                          1.287e+32\n",
      "Date:                Sat, 20 Nov 2021   Prob (F-statistic):                        0.00\n",
      "Time:                        22:44:56   Log-Likelihood:                          67148.\n",
      "No. Observations:                2100   AIC:                                 -1.343e+05\n",
      "Df Residuals:                    2096   BIC:                                 -1.343e+05\n",
      "Df Model:                           4                                                  \n",
      "Covariance Type:            nonrobust                                                  \n",
      "==============================================================================\n",
      "                 coef    std err          t      P>|t|      [0.025      0.975]\n",
      "------------------------------------------------------------------------------\n",
      "feature2       1.3317   8.69e-17   1.53e+16      0.000       1.332       1.332\n",
      "feature3      -1.6618   8.71e-17  -1.91e+16      0.000      -1.662      -1.662\n",
      "feature4      -1.9314   9.62e-17  -2.01e+16      0.000      -1.931      -1.931\n",
      "feature5      -0.7847   4.57e-17  -1.72e+16      0.000      -0.785      -0.785\n",
      "feature6       3.7933   1.75e-16   2.16e+16      0.000       3.793       3.793\n",
      "==============================================================================\n",
      "Omnibus:                        1.071   Durbin-Watson:                   1.913\n",
      "Prob(Omnibus):                  0.585   Jarque-Bera (JB):                1.074\n",
      "Skew:                           0.055   Prob(JB):                        0.584\n",
      "Kurtosis:                       2.989   Cond. No.                     1.30e+16\n",
      "==============================================================================\n",
      "\n",
      "Notes:\n",
      "[1] R² is computed without centering (uncentered) since the model does not contain a constant.\n",
      "[2] Standard Errors assume that the covariance matrix of the errors is correctly specified.\n",
      "[3] The smallest eigenvalue is 6.4e-29. This might indicate that there are\n",
      "strong multicollinearity problems or that the design matrix is singular.\n",
      "\n",
      "****************************************************************************************************\n",
      "\n",
      "feature2\n",
      "                                 OLS Regression Results                                \n",
      "=======================================================================================\n",
      "Dep. Variable:               feature2   R-squared (uncentered):                   1.000\n",
      "Model:                            OLS   Adj. R-squared (uncentered):              1.000\n",
      "Method:                 Least Squares   F-statistic:                          3.101e+32\n",
      "Date:                Sat, 20 Nov 2021   Prob (F-statistic):                        0.00\n",
      "Time:                        22:44:56   Log-Likelihood:                          67980.\n",
      "No. Observations:                2100   AIC:                                 -1.360e+05\n",
      "Df Residuals:                    2096   BIC:                                 -1.359e+05\n",
      "Df Model:                           4                                                  \n",
      "Covariance Type:            nonrobust                                                  \n",
      "==============================================================================\n",
      "                 coef    std err          t      P>|t|      [0.025      0.975]\n",
      "------------------------------------------------------------------------------\n",
      "feature1       0.5760   4.02e-17   1.43e+16      0.000       0.576       0.576\n",
      "feature3      -0.0407   1.63e-17  -2.49e+15      0.000      -0.041      -0.041\n",
      "feature4       1.5376   5.72e-17   2.69e+16      0.000       1.538       1.538\n",
      "feature5       1.5507   4.59e-17   3.38e+16      0.000       1.551       1.551\n",
      "feature6      -2.0964    6.7e-17  -3.13e+16      0.000      -2.096      -2.096\n",
      "==============================================================================\n",
      "Omnibus:                        5.851   Durbin-Watson:                   1.931\n",
      "Prob(Omnibus):                  0.054   Jarque-Bera (JB):                6.640\n",
      "Skew:                          -0.052   Prob(JB):                       0.0362\n",
      "Kurtosis:                       3.255   Cond. No.                     1.15e+16\n",
      "==============================================================================\n",
      "\n",
      "Notes:\n",
      "[1] R² is computed without centering (uncentered) since the model does not contain a constant.\n",
      "[2] Standard Errors assume that the covariance matrix of the errors is correctly specified.\n",
      "[3] The smallest eigenvalue is 7.8e-29. This might indicate that there are\n",
      "strong multicollinearity problems or that the design matrix is singular.\n",
      "\n",
      "****************************************************************************************************\n",
      "\n",
      "feature3\n",
      "                                 OLS Regression Results                                \n",
      "=======================================================================================\n",
      "Dep. Variable:               feature3   R-squared (uncentered):                   1.000\n",
      "Model:                            OLS   Adj. R-squared (uncentered):              1.000\n",
      "Method:                 Least Squares   F-statistic:                          1.189e+33\n",
      "Date:                Sat, 20 Nov 2021   Prob (F-statistic):                        0.00\n",
      "Time:                        22:44:56   Log-Likelihood:                          69563.\n",
      "No. Observations:                2100   AIC:                                 -1.391e+05\n",
      "Df Residuals:                    2096   BIC:                                 -1.391e+05\n",
      "Df Model:                           4                                                  \n",
      "Covariance Type:            nonrobust                                                  \n",
      "==============================================================================\n",
      "                 coef    std err          t      P>|t|      [0.025      0.975]\n",
      "------------------------------------------------------------------------------\n",
      "feature1      -0.1315   1.48e-17  -8.87e+15      0.000      -0.131      -0.131\n",
      "feature2      -0.0074   1.35e-17   -5.5e+14      0.000      -0.007      -0.007\n",
      "feature4       0.0791   1.17e-17   6.76e+15      0.000       0.079       0.079\n",
      "feature5       0.7574   1.21e-17   6.25e+16      0.000       0.757       0.757\n",
      "feature6       0.5679   1.04e-17   5.48e+16      0.000       0.568       0.568\n",
      "==============================================================================\n",
      "Omnibus:                      120.283   Durbin-Watson:                   1.981\n",
      "Prob(Omnibus):                  0.000   Jarque-Bera (JB):              174.246\n",
      "Skew:                          -0.496   Prob(JB):                     1.46e-38\n",
      "Kurtosis:                       4.004   Cond. No.                     3.91e+15\n",
      "==============================================================================\n",
      "\n",
      "Notes:\n",
      "[1] R² is computed without centering (uncentered) since the model does not contain a constant.\n",
      "[2] Standard Errors assume that the covariance matrix of the errors is correctly specified.\n",
      "[3] The smallest eigenvalue is 5.46e-28. This might indicate that there are\n",
      "strong multicollinearity problems or that the design matrix is singular.\n",
      "\n",
      "****************************************************************************************************\n",
      "\n",
      "feature4\n",
      "                                 OLS Regression Results                                \n",
      "=======================================================================================\n",
      "Dep. Variable:               feature4   R-squared (uncentered):                   1.000\n",
      "Model:                            OLS   Adj. R-squared (uncentered):              1.000\n",
      "Method:                 Least Squares   F-statistic:                          9.363e+32\n",
      "Date:                Sat, 20 Nov 2021   Prob (F-statistic):                        0.00\n",
      "Time:                        22:44:56   Log-Likelihood:                          69371.\n",
      "No. Observations:                2100   AIC:                                 -1.387e+05\n",
      "Df Residuals:                    2096   BIC:                                 -1.387e+05\n",
      "Df Model:                           4                                                  \n",
      "Covariance Type:            nonrobust                                                  \n",
      "==============================================================================\n",
      "                 coef    std err          t      P>|t|      [0.025      0.975]\n",
      "------------------------------------------------------------------------------\n",
      "feature1      -0.3496   1.65e-17  -2.11e+16      0.000      -0.350      -0.350\n",
      "feature2       0.6435   1.91e-17   3.37e+16      0.000       0.644       0.644\n",
      "feature3       0.1811   8.54e-18   2.12e+16      0.000       0.181       0.181\n",
      "feature5      -1.1135   1.96e-17  -5.67e+16      0.000      -1.113      -1.113\n",
      "feature6       1.2587   2.11e-17   5.96e+16      0.000       1.259       1.259\n",
      "==============================================================================\n",
      "Omnibus:                       53.051   Durbin-Watson:                   2.026\n",
      "Prob(Omnibus):                  0.000   Jarque-Bera (JB):               72.903\n",
      "Skew:                           0.280   Prob(JB):                     1.48e-16\n",
      "Kurtosis:                       3.720   Cond. No.                     5.87e+15\n",
      "==============================================================================\n",
      "\n",
      "Notes:\n",
      "[1] R² is computed without centering (uncentered) since the model does not contain a constant.\n",
      "[2] Standard Errors assume that the covariance matrix of the errors is correctly specified.\n",
      "[3] The smallest eigenvalue is 3.17e-28. This might indicate that there are\n",
      "strong multicollinearity problems or that the design matrix is singular.\n",
      "\n",
      "****************************************************************************************************\n",
      "\n",
      "feature5\n",
      "                                 OLS Regression Results                                \n",
      "=======================================================================================\n",
      "Dep. Variable:               feature5   R-squared (uncentered):                   1.000\n",
      "Model:                            OLS   Adj. R-squared (uncentered):              1.000\n",
      "Method:                 Least Squares   F-statistic:                          6.606e+32\n",
      "Date:                Sat, 20 Nov 2021   Prob (F-statistic):                        0.00\n",
      "Time:                        22:44:56   Log-Likelihood:                          68926.\n",
      "No. Observations:                2100   AIC:                                 -1.378e+05\n",
      "Df Residuals:                    2096   BIC:                                 -1.378e+05\n",
      "Df Model:                           4                                                  \n",
      "Covariance Type:            nonrobust                                                  \n",
      "==============================================================================\n",
      "                 coef    std err          t      P>|t|      [0.025      0.975]\n",
      "------------------------------------------------------------------------------\n",
      "feature1      -0.0623   1.97e-17  -3.17e+15      0.000      -0.062      -0.062\n",
      "feature2       0.2847   1.83e-17   1.56e+16      0.000       0.285       0.285\n",
      "feature3       0.7603   1.65e-17    4.6e+16      0.000       0.760       0.760\n",
      "feature4      -0.4884   1.88e-17   -2.6e+16      0.000      -0.488      -0.488\n",
      "feature6       0.1598   9.85e-18   1.62e+16      0.000       0.160       0.160\n",
      "==============================================================================\n",
      "Omnibus:                        4.515   Durbin-Watson:                   1.993\n",
      "Prob(Omnibus):                  0.105   Jarque-Bera (JB):                4.299\n",
      "Skew:                           0.074   Prob(JB):                        0.117\n",
      "Kurtosis:                       2.836   Cond. No.                     7.02e+15\n",
      "==============================================================================\n",
      "\n",
      "Notes:\n",
      "[1] R² is computed without centering (uncentered) since the model does not contain a constant.\n",
      "[2] Standard Errors assume that the covariance matrix of the errors is correctly specified.\n",
      "[3] The smallest eigenvalue is 1.68e-28. This might indicate that there are\n",
      "strong multicollinearity problems or that the design matrix is singular.\n",
      "\n",
      "****************************************************************************************************\n",
      "\n",
      "feature6\n",
      "                                 OLS Regression Results                                \n",
      "=======================================================================================\n",
      "Dep. Variable:               feature6   R-squared (uncentered):                   1.000\n",
      "Model:                            OLS   Adj. R-squared (uncentered):              1.000\n",
      "Method:                 Least Squares   F-statistic:                          6.018e+32\n",
      "Date:                Sat, 20 Nov 2021   Prob (F-statistic):                        0.00\n",
      "Time:                        22:44:56   Log-Likelihood:                          69203.\n",
      "No. Observations:                2100   AIC:                                 -1.384e+05\n",
      "Df Residuals:                    2096   BIC:                                 -1.384e+05\n",
      "Df Model:                           4                                                  \n",
      "Covariance Type:            nonrobust                                                  \n",
      "==============================================================================\n",
      "                 coef    std err          t      P>|t|      [0.025      0.975]\n",
      "------------------------------------------------------------------------------\n",
      "feature1       0.2622   1.74e-17   1.51e+16      0.000       0.262       0.262\n",
      "feature2      -0.3350   1.72e-17  -1.94e+16      0.000      -0.335      -0.335\n",
      "feature3       0.4963    1.2e-17   4.13e+16      0.000       0.496       0.496\n",
      "feature4       0.4806   1.63e-17   2.95e+16      0.000       0.481       0.481\n",
      "feature5       0.1391   8.77e-18   1.59e+16      0.000       0.139       0.139\n",
      "==============================================================================\n",
      "Omnibus:                       25.520   Durbin-Watson:                   1.934\n",
      "Prob(Omnibus):                  0.000   Jarque-Bera (JB):               26.817\n",
      "Skew:                          -0.244   Prob(JB):                     1.50e-06\n",
      "Kurtosis:                       3.260   Cond. No.                     4.04e+15\n",
      "==============================================================================\n",
      "\n",
      "Notes:\n",
      "[1] R² is computed without centering (uncentered) since the model does not contain a constant.\n",
      "[2] Standard Errors assume that the covariance matrix of the errors is correctly specified.\n",
      "[3] The smallest eigenvalue is 6.42e-28. This might indicate that there are\n",
      "strong multicollinearity problems or that the design matrix is singular.\n",
      "\n",
      "****************************************************************************************************\n",
      "\n"
     ]
    }
   ],
   "source": [
    "for i in X.columns:\n",
    "    x1 = X[i]\n",
    "    x2 = X.drop(i, axis=1)\n",
    "\n",
    "    slr_model = sm.OLS(x1, x2)\n",
    "    slr_reg = slr_model.fit()\n",
    "    print(i)\n",
    "    print(slr_reg.summary())\n",
    "    print('')\n",
    "    print('*'*100)\n",
    "    print('')"
   ]
  },
  {
   "cell_type": "markdown",
   "id": "f51d2598-533b-4eb9-8fec-c430796496f5",
   "metadata": {},
   "source": [
    "Es reseñable que la columna feature3 tiene un coeficiente relativamente cercano a 0 respecto a las columnas feature2 y feature4 (-0.0074 y 0.0791 respectivamente), lo cual nos indica que feature3 está bastante relacionada con ambas y es posible que nuestro modelo predictivo sea más preciso si no la tenemos en cuenta. "
   ]
  },
  {
   "cell_type": "markdown",
   "id": "3bf002dc-b1b8-4f6b-acd4-1db253811c04",
   "metadata": {},
   "source": [
    "### Métodos predictivos"
   ]
  },
  {
   "cell_type": "markdown",
   "id": "93e1eacb-ff27-4652-9014-d01167594e8a",
   "metadata": {},
   "source": [
    "Primero haremos Random Forests con los parámetros por default y miraremos qué f1-score y matriz de confusión obtenemos.\n",
    "Después probaremos a hacer un GridSearch con RandomForestClassifier para ver si logramos que el f1-score mejore y por último probaremos a hacer el mejor método que hayamos obtenido a:\n",
    "- el dataframe habiendo quitado la columna 3\n",
    "- un nuevo dataframe de 5 features habiendo aplicado PCA"
   ]
  },
  {
   "cell_type": "code",
   "execution_count": 228,
   "id": "8cc699e1-8dde-49f3-afe9-a8d0626a4da3",
   "metadata": {},
   "outputs": [],
   "source": [
    "# Hacemos train_test_split:\n",
    "X_train, X_test, y_train, y_test = train_test_split(X, y, test_size=0.3)"
   ]
  },
  {
   "cell_type": "markdown",
   "id": "e416cfd8-be7e-48f4-8d73-a15c4c00307a",
   "metadata": {},
   "source": [
    "#### Random Forest con parámetros por defecto:"
   ]
  },
  {
   "cell_type": "code",
   "execution_count": 229,
   "id": "c437b7c8-caf2-44ac-a343-d9d0eceeeb51",
   "metadata": {},
   "outputs": [
    {
     "name": "stdout",
     "output_type": "stream",
     "text": [
      "Accuracy score:  0.7777777777777778\n",
      "F1-score:  0.7753482071608226\n",
      "Mean squared error:  0.7031746031746032\n"
     ]
    },
    {
     "data": {
      "text/plain": [
       "array([[111,  10,   6,   3,   1],\n",
       "       [ 10, 102,  11,  14,   1],\n",
       "       [  6,   5,  77,   7,  18],\n",
       "       [  5,   6,   8, 107,  13],\n",
       "       [  3,   0,   7,   6,  93]], dtype=int64)"
      ]
     },
     "execution_count": 229,
     "metadata": {},
     "output_type": "execute_result"
    }
   ],
   "source": [
    "# Aplicamos RandomForest\n",
    "clf = RandomForestClassifier()\n",
    "clf = clf.fit(X_train, y_train)\n",
    "yhat = clf.predict(X_test)\n",
    "print('Accuracy score: ', accuracy_score(y_test,yhat))\n",
    "print('F1-score: ', f1_score(y_test,yhat, average=\"macro\"))\n",
    "print('Mean squared error: ', mean_squared_error(y_test,yhat) )\n",
    "confusion_matrix(y_test, yhat)"
   ]
  },
  {
   "cell_type": "markdown",
   "id": "af3bc78c-9170-4f81-ae0b-98c28b87192a",
   "metadata": {},
   "source": [
    "Hemos obtenido un f1-score de 0.77 aplicando un Random Forest con los parámetros por defecto"
   ]
  },
  {
   "cell_type": "markdown",
   "id": "c7b82e6e-b784-4e26-9bec-319e0536ca74",
   "metadata": {},
   "source": [
    "Veamos el número de nodos y hojas que tienen los árboles obtenidos:"
   ]
  },
  {
   "cell_type": "code",
   "execution_count": 232,
   "id": "8c032742-388d-477b-8be7-de43c1f374fd",
   "metadata": {},
   "outputs": [
    {
     "name": "stdout",
     "output_type": "stream",
     "text": [
      "[17, 16, 19, 16, 15, 19, 17, 17, 16, 18, 18, 16, 16, 18, 15, 19, 16, 17, 18, 17, 18, 15, 17, 16, 16, 16, 16, 16, 14, 16, 17, 17, 16, 17, 19, 18, 17, 15, 17, 17, 18, 16, 17, 15, 17, 16, 16, 17, 15, 17, 18, 22, 17, 17, 19, 17, 15, 15, 17, 16, 17, 16, 20, 16, 18, 15, 15, 16, 16, 16, 18, 16, 15, 18, 16, 15, 16, 23, 16, 20, 19, 15, 16, 17, 16, 17, 17, 14, 18, 18, 15, 18, 18, 19, 18, 20, 17, 19, 14, 15]\n",
      "[279, 305, 283, 270, 267, 291, 281, 298, 306, 283, 277, 273, 271, 292, 291, 288, 278, 280, 278, 287, 297, 290, 278, 296, 290, 292, 283, 274, 295, 296, 284, 291, 286, 277, 275, 270, 270, 309, 291, 297, 292, 282, 284, 252, 269, 297, 297, 288, 306, 289, 291, 305, 292, 273, 301, 288, 290, 270, 287, 273, 287, 308, 312, 284, 287, 301, 296, 302, 287, 288, 314, 273, 277, 297, 280, 287, 278, 269, 294, 303, 275, 296, 280, 277, 270, 281, 285, 273, 283, 302, 272, 292, 283, 277, 292, 280, 288, 287, 298, 298]\n"
     ]
    }
   ],
   "source": [
    "print([t.get_depth() for t in clf.estimators_]) \n",
    "print([t.get_n_leaves() for t in clf.estimators_])"
   ]
  },
  {
   "cell_type": "markdown",
   "id": "d4d199c7-4fc3-4bf8-ae0d-33aac268a844",
   "metadata": {},
   "source": [
    "Es reseñable observar que todos tienen un alto número de nodos (todos con más del doble del número de features) y alto número de hojas, de forma que es presumible que podamos tener sobreentrenamiento. Sería interesante encontrar árboles fiables con menos hojas, pero en este ejercicio lo que nos priorizará será la f1-score obtenida."
   ]
  },
  {
   "cell_type": "code",
   "execution_count": null,
   "id": "f953a146-ffa7-4e3d-b763-0a8bebac7e40",
   "metadata": {},
   "outputs": [],
   "source": [
    "A continuación graficamos la distribución de las probabilidades con las que el modelo tenía seguridad de acertar, con predict_proba:"
   ]
  },
  {
   "cell_type": "code",
   "execution_count": 233,
   "id": "79a5529f-4ebf-44cd-a285-b40359f5a2b0",
   "metadata": {},
   "outputs": [],
   "source": [
    "predictproba=[]\n",
    "for i in clf.predict_proba(X_test):\n",
    "    predictproba.append(max(i))\n",
    "predictproba\n",
    "\n",
    "dfproba=pd.DataFrame()\n",
    "dfproba['y']=y_test\n",
    "dfproba['yhat']=yhat\n",
    "dfproba['proba']=predictproba\n",
    "dfproba\n",
    "prob_err_val=dfproba[dfproba['y']!=dfproba['yhat']]['proba'].values\n",
    "prob_aci_val=dfproba[dfproba['y']==dfproba['yhat']]['proba'].values"
   ]
  },
  {
   "cell_type": "markdown",
   "id": "e0352897-5521-410d-955a-168e7884c89b",
   "metadata": {},
   "source": [
    "Histograma de la seguridad del modelo cuando acertó:"
   ]
  },
  {
   "cell_type": "code",
   "execution_count": 234,
   "id": "7c610c6d-cb67-4d2d-b498-f93d33644c59",
   "metadata": {},
   "outputs": [
    {
     "data": {
      "text/plain": [
       "(array([ 5., 13., 27., 33., 52., 53., 75., 52., 89., 91.]),\n",
       " array([0.3 , 0.37, 0.44, 0.51, 0.58, 0.65, 0.72, 0.79, 0.86, 0.93, 1.  ]),\n",
       " <BarContainer object of 10 artists>)"
      ]
     },
     "execution_count": 234,
     "metadata": {},
     "output_type": "execute_result"
    },
    {
     "data": {
      "image/png": "[encoded data removed]",
      "text/plain": [
       "<Figure size 432x288 with 1 Axes>"
      ]
     },
     "metadata": {
      "needs_background": "light"
     },
     "output_type": "display_data"
    }
   ],
   "source": [
    "plt.hist(prob_aci_val)"
   ]
  },
  {
   "cell_type": "markdown",
   "id": "ab0d1f04-092b-4d07-aaee-eee396439609",
   "metadata": {},
   "source": [
    "Histograma de la seguridad del modelo cuando falló:"
   ]
  },
  {
   "cell_type": "code",
   "execution_count": 235,
   "id": "2e134f80-d797-4ad7-a07c-11763113c982",
   "metadata": {},
   "outputs": [
    {
     "data": {
      "text/plain": [
       "(array([ 7., 18., 14., 32., 18., 25.,  6.,  8.,  7.,  5.]),\n",
       " array([0.29 , 0.359, 0.428, 0.497, 0.566, 0.635, 0.704, 0.773, 0.842,\n",
       "        0.911, 0.98 ]),\n",
       " <BarContainer object of 10 artists>)"
      ]
     },
     "execution_count": 235,
     "metadata": {},
     "output_type": "execute_result"
    },
    {
     "data": {
      "image/png": "[encoded data removed]",
      "text/plain": [
       "<Figure size 432x288 with 1 Axes>"
      ]
     },
     "metadata": {
      "needs_background": "light"
     },
     "output_type": "display_data"
    }
   ],
   "source": [
    "plt.hist(prob_err_val)"
   ]
  },
  {
   "cell_type": "markdown",
   "id": "9e911ac4-87a3-44cf-9eb8-6ecf7362d872",
   "metadata": {},
   "source": [
    "Histograma total de la seguridad del modelo:"
   ]
  },
  {
   "cell_type": "code",
   "execution_count": 236,
   "id": "9312dce7-0400-472a-9721-7bbe6dafb60f",
   "metadata": {},
   "outputs": [
    {
     "data": {
      "text/plain": [
       "(array([13., 32., 46., 64., 72., 70., 82., 62., 95., 94.]),\n",
       " array([0.29 , 0.361, 0.432, 0.503, 0.574, 0.645, 0.716, 0.787, 0.858,\n",
       "        0.929, 1.   ]),\n",
       " <BarContainer object of 10 artists>)"
      ]
     },
     "execution_count": 236,
     "metadata": {},
     "output_type": "execute_result"
    },
    {
     "data": {
      "image/png": "[encoded data removed]",
      "text/plain": [
       "<Figure size 432x288 with 1 Axes>"
      ]
     },
     "metadata": {
      "needs_background": "light"
     },
     "output_type": "display_data"
    }
   ],
   "source": [
    "plt.hist(predictproba)"
   ]
  },
  {
   "cell_type": "markdown",
   "id": "2af7adae-da81-4925-801f-d1112bf4cd50",
   "metadata": {},
   "source": [
    "Se observa que había relativamente bastantes y falladas para las que el modelo estaba muy seguro de acertar, pero la gran mayoría tenían baja seguridad"
   ]
  },
  {
   "cell_type": "markdown",
   "id": "0a395028-2a11-45fc-bbfe-198ef1f7779c",
   "metadata": {},
   "source": [
    "Los parámetros del árbol clasificador con el que hemos obtenido este resultado:"
   ]
  },
  {
   "cell_type": "code",
   "execution_count": 66,
   "id": "3d376746-534d-481f-b54f-3bd38c776390",
   "metadata": {},
   "outputs": [
    {
     "data": {
      "text/plain": [
       "{'bootstrap': True,\n",
       " 'ccp_alpha': 0.0,\n",
       " 'class_weight': None,\n",
       " 'criterion': 'gini',\n",
       " 'max_depth': None,\n",
       " 'max_features': 'auto',\n",
       " 'max_leaf_nodes': None,\n",
       " 'max_samples': None,\n",
       " 'min_impurity_decrease': 0.0,\n",
       " 'min_impurity_split': None,\n",
       " 'min_samples_leaf': 1,\n",
       " 'min_samples_split': 2,\n",
       " 'min_weight_fraction_leaf': 0.0,\n",
       " 'n_estimators': 100,\n",
       " 'n_jobs': None,\n",
       " 'oob_score': False,\n",
       " 'random_state': None,\n",
       " 'verbose': 0,\n",
       " 'warm_start': False}"
      ]
     },
     "execution_count": 66,
     "metadata": {},
     "output_type": "execute_result"
    }
   ],
   "source": [
    "# Parámetros del árbol clasificador con el que hemos obtenido este resultado:\n",
    "clf.get_params()"
   ]
  },
  {
   "cell_type": "markdown",
   "id": "d7eedcfd-1cce-4044-80a2-f3df35d93a03",
   "metadata": {},
   "source": [
    "Validamos el método aplicando un k-fold:"
   ]
  },
  {
   "cell_type": "code",
   "execution_count": 246,
   "id": "3f79dc2a-e5f6-433f-9013-67f599fe4d62",
   "metadata": {},
   "outputs": [
    {
     "name": "stdout",
     "output_type": "stream",
     "text": [
      "accuracy medio:  0.7733333333333332\n",
      "f1-score media:  0.7723026340492368\n",
      "Mean squared error media:  0.7285714285714284\n"
     ]
    }
   ],
   "source": [
    "Xarr = np.array(X)\n",
    "kf = KFold(n_splits=10)\n",
    "kfoldf1sc = []\n",
    "lista_mse=[]\n",
    "lista_acc=[]\n",
    "for train_index, test_index in kf.split(Xarr, y):\n",
    "    X_train, X_test = Xarr[train_index], Xarr[test_index]\n",
    "    y_train, y_test = y[train_index], y[test_index]\n",
    "    clf= RandomForestClassifier()\n",
    "    clf = clf.fit(X_train, y_train)\n",
    "    yhat = clf.predict(X_test)\n",
    "    kfoldf1sc.append(f1_score(y_test,yhat, average='macro'))\n",
    "    lista_acc.append(accuracy_score(y_test,yhat))\n",
    "    lista_mse.append(mean_squared_error(y_test,yhat))\n",
    "print('accuracy medio: ', sum(lista_acc)/len(lista_acc))\n",
    "print('f1-score media: ', sum(kfoldf1sc)/len(kfoldf1sc))\n",
    "print('Mean squared error media: ', sum(lista_mse)/len(lista_mse) )"
   ]
  },
  {
   "cell_type": "markdown",
   "id": "ae650965-3cd8-4f35-a150-089d596196cc",
   "metadata": {},
   "source": [
    "Y aplicamos también hold out 100 veces:"
   ]
  },
  {
   "cell_type": "code",
   "execution_count": 245,
   "id": "c11789d2-41fd-47e7-a1e1-3f4111633136",
   "metadata": {},
   "outputs": [
    {
     "name": "stdout",
     "output_type": "stream",
     "text": [
      "accuracy medio:  0.766047619047619\n",
      "F1-score media:  0.7650998352375196\n",
      "Mean squared error media:  0.7624761904761903\n"
     ]
    }
   ],
   "source": [
    "# hold out\n",
    "lista_acc=[]\n",
    "lista_f1=[]\n",
    "lista_mse=[]\n",
    "for i in range(100):\n",
    "    X_train, X_test, y_train, y_test = train_test_split( X, y, test_size=0.3)\n",
    "    clf = RandomForestClassifier()\n",
    "    clf.fit(X_train, y_train)\n",
    "    yhat = clf.predict(X_test)\n",
    "    lista_acc.append(accuracy_score(y_test,yhat))\n",
    "    lista_f1.append(f1_score(y_test,yhat,average='macro'))\n",
    "    lista_mse.append(mean_squared_error(y_test,yhat))\n",
    "print('accuracy medio: ', sum(lista_acc)/len(lista_acc))\n",
    "f1mean=sum(lista_f1)/len(lista_f1)\n",
    "print('F1-score media: ', f1mean)\n",
    "print('Mean squared error media: ', sum(lista_mse)/len(lista_mse) )"
   ]
  },
  {
   "cell_type": "code",
   "execution_count": null,
   "id": "5c762d3c-1819-4129-b39e-520ec3a55e5a",
   "metadata": {},
   "outputs": [],
   "source": []
  },
  {
   "cell_type": "markdown",
   "id": "e0427b0b-71e2-415a-8c50-aef7d8ad6c06",
   "metadata": {},
   "source": [
    "Obtenemos una media de f1-score de 0.73 y una mean squared error media de 0.69 en la validación con un k-fold de 100 splits, y 0.76 de f1-score media y 0.76 de mean squared error media con hold out de 100"
   ]
  },
  {
   "cell_type": "markdown",
   "id": "ebe67593-4e25-4cb6-ad68-7629a281f39d",
   "metadata": {},
   "source": [
    "Miramos la relevancia que ha tenido cada columna en el cálculo de yhat con feature_importances:"
   ]
  },
  {
   "cell_type": "code",
   "execution_count": 242,
   "id": "94b5a3e7-c3ca-43b8-ad5d-2af2c2444557",
   "metadata": {},
   "outputs": [
    {
     "name": "stdout",
     "output_type": "stream",
     "text": [
      "[0.23332732 0.20131916 0.11942015 0.15165835 0.13871737 0.15555765]\n"
     ]
    },
    {
     "data": {
      "image/png": "[encoded data removed]",
      "text/plain": [
       "<Figure size 432x288 with 1 Axes>"
      ]
     },
     "metadata": {
      "needs_background": "light"
     },
     "output_type": "display_data"
    }
   ],
   "source": [
    "importances = clf.feature_importances_\n",
    "std = np.std([tree.feature_importances_ for tree in clf.estimators_], axis=0)\n",
    "\n",
    "forest_importances = pd.Series(importances, index=X.columns)\n",
    "\n",
    "fig, ax = plt.subplots()\n",
    "forest_importances.plot.bar(yerr=std, ax=ax)\n",
    "ax.set_title(\"Feature importances using MDI\")\n",
    "ax.set_ylabel(\"Mean decrease in impurity\")\n",
    "fig.tight_layout()\n",
    "print(importances)"
   ]
  },
  {
   "cell_type": "markdown",
   "id": "d60f75a0-eb77-499e-9e5a-69a5d65ab844",
   "metadata": {},
   "source": [
    "De nuevo observamos que feature3 es la columna menos relevante"
   ]
  },
  {
   "cell_type": "markdown",
   "id": "882640c3-b884-469f-a1f8-79335a40d457",
   "metadata": {},
   "source": [
    "#### GridSearch de RandomForestClassifier:"
   ]
  },
  {
   "cell_type": "markdown",
   "id": "847163a4-c58e-493e-b1ee-31f88b08c52e",
   "metadata": {},
   "source": [
    "Establecemos una serie de parámetros posibles para el RandomForest y buscamos cuál es la mejor combinación de ellos con GridSearch.\n",
    "\n",
    "Los parámetros a usar son:\n",
    "\n",
    "criterion: gini y entropy\n",
    "\n",
    "max_depth: Desde algo más que el número de columnas (7), hasta algo más del doble (16)\n",
    "\n",
    "n_jobs: -1\n",
    "\n",
    "max_leaf_nodes: Desde unas 4 veces el número de etiquetas hasta algo más del doble\n"
   ]
  },
  {
   "cell_type": "code",
   "execution_count": 243,
   "id": "6b42b665-d5dc-4df7-baa8-e2d2b2903f5b",
   "metadata": {},
   "outputs": [
    {
     "data": {
      "text/plain": [
       "{'criterion': 'gini', 'max_depth': 7, 'max_leaf_nodes': 48, 'n_jobs': -1}"
      ]
     },
     "execution_count": 243,
     "metadata": {},
     "output_type": "execute_result"
    }
   ],
   "source": [
    "clf2 = RandomForestClassifier()\n",
    "parametros = {'criterion':['entropy','gini'],\n",
    "             'max_depth':[7,8,10,12,14,16],\n",
    "             'n_jobs':[-1],\n",
    "              'max_leaf_nodes': [21,24,30,36,42,48,]\n",
    "             }\n",
    "\n",
    "grid = GridSearchCV(estimator = clf2,\n",
    "                    param_grid = parametros,\n",
    "                    scoring = 'f1_macro',\n",
    "                    n_jobs = -1 )\n",
    "\n",
    "search_result = grid.fit(X,y)\n",
    "search_result.best_params_"
   ]
  },
  {
   "cell_type": "code",
   "execution_count": 199,
   "id": "37024932-26dc-4857-b291-dd98d2a983d2",
   "metadata": {},
   "outputs": [
    {
     "data": {
      "text/plain": [
       "RandomForestClassifier(criterion='entropy', max_depth=12, max_leaf_nodes=48,\n",
       "                       n_jobs=-1)"
      ]
     },
     "execution_count": 199,
     "metadata": {},
     "output_type": "execute_result"
    }
   ],
   "source": [
    "search_result.best_estimator_"
   ]
  },
  {
   "cell_type": "markdown",
   "id": "6638ed9c-9c38-4a96-89cd-aac183594df2",
   "metadata": {},
   "source": [
    "Obtenemos como mejores parámetros: \n",
    "    \n",
    "{'criterion': 'entropy', 'max_depth': 12, 'max_leaf_nodes': 48, 'n_jobs': -1}"
   ]
  },
  {
   "cell_type": "markdown",
   "id": "2264dc5f-1796-4555-ad35-955e53cd2f50",
   "metadata": {},
   "source": [
    "Hacemos RandomForest con los parámetros obtenidos:"
   ]
  },
  {
   "cell_type": "code",
   "execution_count": 250,
   "id": "43054730-659b-4661-a642-6c0f3d24d555",
   "metadata": {},
   "outputs": [
    {
     "name": "stdout",
     "output_type": "stream",
     "text": [
      "Accuracy:  0.7333333333333333\n",
      "F1-score:  0.7228858409495853\n",
      "Mean squared error:  0.6190476190476191\n"
     ]
    },
    {
     "data": {
      "text/plain": [
       "array([[40,  3,  6,  1,  0],\n",
       "       [ 5, 19,  6,  6,  0],\n",
       "       [ 1,  5, 25,  3,  4],\n",
       "       [ 0,  3,  4, 35,  3],\n",
       "       [ 0,  0,  2,  4, 35]], dtype=int64)"
      ]
     },
     "execution_count": 250,
     "metadata": {},
     "output_type": "execute_result"
    }
   ],
   "source": [
    "clf = search_result.best_estimator_  #(criterion='entropy',max_depth=12,max_leaf_nodes=48,n_jobs=-1)\n",
    "clf = clf.fit(X_train, y_train)\n",
    "yhat = clf.predict(X_test)\n",
    "print('Accuracy: ', accuracy_score(y_test,yhat))\n",
    "print('F1-score: ', f1_score(y_test,yhat, average=\"macro\"))\n",
    "print('Mean squared error: ', mean_squared_error(y_test,yhat) )\n",
    "confusion_matrix(y_test, yhat)"
   ]
  },
  {
   "cell_type": "markdown",
   "id": "130f2477-962b-4a74-8dfc-2715f769531d",
   "metadata": {},
   "source": [
    "Hemos obtenido un f1-score de 0.72 y un mean squared error de 0.61"
   ]
  },
  {
   "cell_type": "markdown",
   "id": "8bc9a831-ea7e-4bf5-978f-4e830c7db33b",
   "metadata": {},
   "source": [
    "Vemos también aquí gráficamente la distribución de las probabilidades cuando falla y cuando acierta:"
   ]
  },
  {
   "cell_type": "code",
   "execution_count": 201,
   "id": "71db7162-18dc-4537-9dd8-9c7ccc9bbd84",
   "metadata": {},
   "outputs": [],
   "source": [
    "predictproba=[]\n",
    "for i in clf.predict_proba(X_test):\n",
    "    predictproba.append(max(i))\n",
    "predictproba\n",
    "\n",
    "dfproba=pd.DataFrame()\n",
    "dfproba['y']=y_test\n",
    "dfproba['yhat']=yhat\n",
    "dfproba['proba']=predictproba\n",
    "dfproba\n",
    "prob_err_val=dfproba[dfproba['y']!=dfproba['yhat']]['proba'].values\n",
    "prob_aci_val=dfproba[dfproba['y']==dfproba['yhat']]['proba'].values"
   ]
  },
  {
   "cell_type": "code",
   "execution_count": 202,
   "id": "1b9e5e2c-dda2-40cd-870d-71d9c7473edb",
   "metadata": {},
   "outputs": [
    {
     "data": {
      "text/plain": [
       "(array([11., 20., 44., 42., 47., 81., 82., 54., 39., 47.]),\n",
       " array([0.28572093, 0.35134958, 0.41697822, 0.48260687, 0.54823552,\n",
       "        0.61386417, 0.67949282, 0.74512146, 0.81075011, 0.87637876,\n",
       "        0.94200741]),\n",
       " <BarContainer object of 10 artists>)"
      ]
     },
     "execution_count": 202,
     "metadata": {},
     "output_type": "execute_result"
    },
    {
     "data": {
      "image/png": "[encoded data removed]",
      "text/plain": [
       "<Figure size 432x288 with 1 Axes>"
      ]
     },
     "metadata": {
      "needs_background": "light"
     },
     "output_type": "display_data"
    }
   ],
   "source": [
    "plt.hist(prob_aci_val)"
   ]
  },
  {
   "cell_type": "code",
   "execution_count": 203,
   "id": "158c7445-ba90-4edb-9846-404ef5431719",
   "metadata": {},
   "outputs": [
    {
     "data": {
      "text/plain": [
       "(array([15., 17., 19., 34., 28., 22., 13.,  9.,  2.,  4.]),\n",
       " array([0.29367941, 0.35443617, 0.41519293, 0.47594969, 0.53670646,\n",
       "        0.59746322, 0.65821998, 0.71897674, 0.7797335 , 0.84049026,\n",
       "        0.90124702]),\n",
       " <BarContainer object of 10 artists>)"
      ]
     },
     "execution_count": 203,
     "metadata": {},
     "output_type": "execute_result"
    },
    {
     "data": {
      "image/png": "[encoded data removed]",
      "text/plain": [
       "<Figure size 432x288 with 1 Axes>"
      ]
     },
     "metadata": {
      "needs_background": "light"
     },
     "output_type": "display_data"
    }
   ],
   "source": [
    "plt.hist(prob_err_val)"
   ]
  },
  {
   "cell_type": "code",
   "execution_count": 204,
   "id": "f36da4c1-e62e-4330-a2bc-a38e721cadd0",
   "metadata": {},
   "outputs": [
    {
     "data": {
      "text/plain": [
       "(array([ 26.,  38.,  65.,  78.,  74., 104.,  95.,  59.,  40.,  51.]),\n",
       " array([0.28572093, 0.35134958, 0.41697822, 0.48260687, 0.54823552,\n",
       "        0.61386417, 0.67949282, 0.74512146, 0.81075011, 0.87637876,\n",
       "        0.94200741]),\n",
       " <BarContainer object of 10 artists>)"
      ]
     },
     "execution_count": 204,
     "metadata": {},
     "output_type": "execute_result"
    },
    {
     "data": {
      "image/png": "[encoded data removed]",
      "text/plain": [
       "<Figure size 432x288 with 1 Axes>"
      ]
     },
     "metadata": {
      "needs_background": "light"
     },
     "output_type": "display_data"
    }
   ],
   "source": [
    "plt.hist(predictproba)"
   ]
  },
  {
   "cell_type": "markdown",
   "id": "efced382-4aa0-40a8-883e-b69467c4fa96",
   "metadata": {},
   "source": [
    "Este modelo parece presentar una mejor distribución de seguridad tanto cuando falla como cuando acierta"
   ]
  },
  {
   "cell_type": "markdown",
   "id": "ddd5bea4-bd23-49c8-9f9b-773bd21c9178",
   "metadata": {},
   "source": [
    "Validamos con k-fold:"
   ]
  },
  {
   "cell_type": "code",
   "execution_count": 251,
   "id": "fe643b46-0bfb-411e-a014-3e586071d516",
   "metadata": {},
   "outputs": [
    {
     "name": "stdout",
     "output_type": "stream",
     "text": [
      "accuracy medio:  0.7380952380952381\n",
      "f1-score media:  0.7350329305468871\n",
      "Mean squared error media:  0.8504761904761905\n"
     ]
    }
   ],
   "source": [
    "Xarr = np.array(X)\n",
    "kf = KFold(n_splits=10)\n",
    "kfoldf1sc = []\n",
    "lista_mse=[]\n",
    "lista_acc=[]\n",
    "for train_index, test_index in kf.split(Xarr, y):\n",
    "    X_train, X_test = Xarr[train_index], Xarr[test_index]\n",
    "    y_train, y_test = y[train_index], y[test_index]\n",
    "    clf = search_result.best_estimator_\n",
    "    clf = clf.fit(X_train, y_train)\n",
    "    yhat = clf.predict(X_test)\n",
    "    kfoldf1sc.append(f1_score(y_test,yhat, average='macro'))\n",
    "    lista_acc.append(accuracy_score(y_test,yhat))\n",
    "    lista_mse.append(mean_squared_error(y_test,yhat))\n",
    "print('accuracy medio: ', sum(lista_acc)/len(lista_acc))\n",
    "print('f1-score media: ', sum(kfoldf1sc)/len(kfoldf1sc))\n",
    "print('Mean squared error media: ', sum(lista_mse)/len(lista_mse) )"
   ]
  },
  {
   "cell_type": "markdown",
   "id": "de13f53a-3626-4b42-86a9-fbd4d8278b62",
   "metadata": {},
   "source": [
    "Obtenemos una media de 0.73 de f1-score y una mean squared error media de 0.75"
   ]
  },
  {
   "cell_type": "markdown",
   "id": "6c937a43-4a12-41fe-9d08-73561324c657",
   "metadata": {},
   "source": [
    "Hacemos también hold out:"
   ]
  },
  {
   "cell_type": "code",
   "execution_count": 252,
   "id": "19829f0d-0c21-4cbc-bce4-1fa5a7f3794a",
   "metadata": {},
   "outputs": [
    {
     "name": "stdout",
     "output_type": "stream",
     "text": [
      "accuracy medio:  0.7367142857142857\n",
      "F1-score media:  0.7355857626346305\n",
      "Mean squared error media:  0.8488730158730159\n"
     ]
    }
   ],
   "source": [
    "# Aplico hold out\n",
    "lista_acc=[]\n",
    "lista_f1=[]\n",
    "lista_mse=[]\n",
    "for i in range(100):\n",
    "    X_train, X_test, y_train, y_test = train_test_split( X, y, test_size=0.3, stratify=y)\n",
    "    clf = search_result.best_estimator_\n",
    "    clf.fit(X_train, y_train)\n",
    "    yhat = clf.predict(X_test)\n",
    "    #print(\"Accuracy: \", accuracy_score(y_test,yhat))\n",
    "    lista_acc.append(accuracy_score(y_test,yhat))\n",
    "    lista_f1.append(f1_score(y_test,yhat,average='macro'))\n",
    "    lista_mse.append(mean_squared_error(y_test,yhat))\n",
    "print('accuracy medio: ', sum(lista_acc)/len(lista_acc))\n",
    "f1mean=sum(lista_f1)/len(lista_f1)\n",
    "print('F1-score media: ', f1mean)\n",
    "# print('Desviación estandar de la f1: ', (sum([(i-f1mean)**2 for i in lista_f1])/len(lista_f1))**(1/2))\n",
    "print('Mean squared error media: ', sum(lista_mse)/len(lista_mse) )"
   ]
  },
  {
   "cell_type": "markdown",
   "id": "1be7dbe0-2df5-4b74-a070-f6f002cfe9ea",
   "metadata": {},
   "source": [
    "Hasta ahora nos ha dado mejor resultado usar RandomForest con los parámetros por defecto así que probaremos eso con las siguientes configuraciones. Aunque de cara a tener un método con menos fallos en los casos en los que está muy seguro de acertar, convendría explorar combinaciones de árboles con menos hojas, o tal entrenar árboles especializados en alguna etiqueta minoritaria haciendo oversampling con SMOTE y combinarlos con árboles default.\n",
    "\n",
    "Para este ejercicio sin embargo nos ceñiremos a RandomForest default."
   ]
  },
  {
   "cell_type": "markdown",
   "id": "fde4a955-fd8b-4f99-b15c-58152a80df7c",
   "metadata": {},
   "source": [
    "#### RandomForest con parámetros por defecto, eliminando feature3"
   ]
  },
  {
   "cell_type": "code",
   "execution_count": 253,
   "id": "0817027e-fd55-4005-a7af-5a65c31a8eea",
   "metadata": {},
   "outputs": [],
   "source": [
    "X3 = X.drop('feature3', axis=1)"
   ]
  },
  {
   "cell_type": "code",
   "execution_count": 254,
   "id": "b974dc3d-1c22-4896-b334-833287d0117f",
   "metadata": {},
   "outputs": [],
   "source": [
    "# Hacemos train_test_split:\n",
    "X_train, X_test, y_train, y_test = train_test_split(X3, y, test_size=0.3)"
   ]
  },
  {
   "cell_type": "code",
   "execution_count": 255,
   "id": "896d48f1-43df-4f10-a67f-6ddb267832f6",
   "metadata": {},
   "outputs": [
    {
     "name": "stdout",
     "output_type": "stream",
     "text": [
      "Accuracy:  0.7571428571428571\n",
      "F1-score:  0.7578506858411176\n",
      "Mean squared error:  0.7253968253968254\n"
     ]
    },
    {
     "data": {
      "text/plain": [
       "array([[104,  17,   7,   3,   0],\n",
       "       [  4,  96,   8,  14,   0],\n",
       "       [  9,  10,  86,  13,  15],\n",
       "       [  4,  13,   5,  98,  11],\n",
       "       [  3,   1,   7,   9,  93]], dtype=int64)"
      ]
     },
     "execution_count": 255,
     "metadata": {},
     "output_type": "execute_result"
    }
   ],
   "source": [
    "# Aplicamos RandomForest\n",
    "clf = RandomForestClassifier()\n",
    "clf = clf.fit(X_train, y_train)\n",
    "yhat = clf.predict(X_test)\n",
    "print('Accuracy: ', accuracy_score(y_test,yhat))\n",
    "print('F1-score: ', f1_score(y_test,yhat, average=\"macro\"))\n",
    "print('Mean squared error: ', mean_squared_error(y_test,yhat) )\n",
    "confusion_matrix(y_test, yhat)"
   ]
  },
  {
   "cell_type": "markdown",
   "id": "6e8faabe-cdc9-4ae9-9348-bd2fbfae131a",
   "metadata": {},
   "source": [
    "Obtenemos un f1-score de 0.75"
   ]
  },
  {
   "cell_type": "markdown",
   "id": "2a22ac61-2bb0-49ab-b04c-5ca65ecbe1af",
   "metadata": {},
   "source": [
    "Validamos el método con k-fold:"
   ]
  },
  {
   "cell_type": "markdown",
   "id": "ee08d400-ddba-4bb6-b96b-dfb1e3a4480f",
   "metadata": {},
   "source": [
    "Vemos gráficamente la distribución de las seguridades:"
   ]
  },
  {
   "cell_type": "code",
   "execution_count": 216,
   "id": "a586cec4-add3-4524-8457-8ba989633e93",
   "metadata": {},
   "outputs": [],
   "source": [
    "predictproba=[]\n",
    "for i in clf.predict_proba(X_test):\n",
    "    predictproba.append(max(i))\n",
    "predictproba\n",
    "\n",
    "dfproba=pd.DataFrame()\n",
    "dfproba['y']=y_test\n",
    "dfproba['yhat']=yhat\n",
    "dfproba['proba']=predictproba\n",
    "dfproba\n",
    "prob_err_val=dfproba[dfproba['y']!=dfproba['yhat']]['proba'].values\n",
    "prob_aci_val=dfproba[dfproba['y']==dfproba['yhat']]['proba'].values"
   ]
  },
  {
   "cell_type": "markdown",
   "id": "827508a3-5cec-4c4d-9908-e41829c6c2c0",
   "metadata": {},
   "source": [
    "En los aciertos:"
   ]
  },
  {
   "cell_type": "code",
   "execution_count": 256,
   "id": "6fb3106a-eaf7-4ac6-bd5a-a180d28dadbd",
   "metadata": {},
   "outputs": [
    {
     "data": {
      "text/plain": [
       "(array([ 5., 13., 27., 33., 52., 53., 75., 52., 89., 91.]),\n",
       " array([0.3 , 0.37, 0.44, 0.51, 0.58, 0.65, 0.72, 0.79, 0.86, 0.93, 1.  ]),\n",
       " <BarContainer object of 10 artists>)"
      ]
     },
     "execution_count": 256,
     "metadata": {},
     "output_type": "execute_result"
    },
    {
     "data": {
      "image/png": "[encoded data removed]",
      "text/plain": [
       "<Figure size 432x288 with 1 Axes>"
      ]
     },
     "metadata": {
      "needs_background": "light"
     },
     "output_type": "display_data"
    }
   ],
   "source": [
    "plt.hist(prob_aci_val)"
   ]
  },
  {
   "cell_type": "markdown",
   "id": "0d3ba254-a357-4966-9471-f792d44c3b8a",
   "metadata": {},
   "source": [
    "En los errores:"
   ]
  },
  {
   "cell_type": "code",
   "execution_count": 257,
   "id": "6d7fb9f5-6911-417f-9093-141203d68e17",
   "metadata": {},
   "outputs": [
    {
     "data": {
      "text/plain": [
       "(array([ 7., 18., 14., 32., 18., 25.,  6.,  8.,  7.,  5.]),\n",
       " array([0.29 , 0.359, 0.428, 0.497, 0.566, 0.635, 0.704, 0.773, 0.842,\n",
       "        0.911, 0.98 ]),\n",
       " <BarContainer object of 10 artists>)"
      ]
     },
     "execution_count": 257,
     "metadata": {},
     "output_type": "execute_result"
    },
    {
     "data": {
      "image/png": "[encoded data removed]",
      "text/plain": [
       "<Figure size 432x288 with 1 Axes>"
      ]
     },
     "metadata": {
      "needs_background": "light"
     },
     "output_type": "display_data"
    }
   ],
   "source": [
    "plt.hist(prob_err_val)"
   ]
  },
  {
   "cell_type": "markdown",
   "id": "306b05ad-0ce0-4e67-a87e-a7d69333cadd",
   "metadata": {},
   "source": [
    "Todos:"
   ]
  },
  {
   "cell_type": "code",
   "execution_count": 258,
   "id": "f3fe8268-0336-4ecf-8b1d-13423277d920",
   "metadata": {},
   "outputs": [
    {
     "data": {
      "text/plain": [
       "(array([13., 32., 46., 64., 72., 70., 82., 62., 95., 94.]),\n",
       " array([0.29 , 0.361, 0.432, 0.503, 0.574, 0.645, 0.716, 0.787, 0.858,\n",
       "        0.929, 1.   ]),\n",
       " <BarContainer object of 10 artists>)"
      ]
     },
     "execution_count": 258,
     "metadata": {},
     "output_type": "execute_result"
    },
    {
     "data": {
      "image/png": "[encoded data removed]",
      "text/plain": [
       "<Figure size 432x288 with 1 Axes>"
      ]
     },
     "metadata": {
      "needs_background": "light"
     },
     "output_type": "display_data"
    }
   ],
   "source": [
    "plt.hist(predictproba)"
   ]
  },
  {
   "cell_type": "markdown",
   "id": "fbe7df36-3a33-4b45-b24c-4c8abbe8bf90",
   "metadata": {},
   "source": [
    "Validamos con k-fold:"
   ]
  },
  {
   "cell_type": "code",
   "execution_count": 259,
   "id": "4766b1af-31ac-4741-9075-3ca82928c753",
   "metadata": {},
   "outputs": [
    {
     "name": "stdout",
     "output_type": "stream",
     "text": [
      "F1-score media:  0.772085413036266\n",
      "Mean squared error media:  0.7147619047619047\n"
     ]
    }
   ],
   "source": [
    "Xarr = np.array(X3)\n",
    "kf = KFold(n_splits=10)\n",
    "kfoldf1sc = []\n",
    "lista_mse=[]\n",
    "for train_index, test_index in kf.split(Xarr, y):\n",
    "    X_train, X_test = Xarr[train_index], Xarr[test_index]\n",
    "    y_train, y_test = y[train_index], y[test_index]\n",
    "    clf1=RandomForestClassifier()\n",
    "    clf1 = clf1.fit(X_train, y_train)\n",
    "    yhat = clf1.predict(X_test)\n",
    "    kfoldf1sc.append(f1_score(y_test,yhat, average='macro'))\n",
    "    lista_mse.append(mean_squared_error(y_test,yhat))\n",
    "print('F1-score media: ', sum(kfoldf1sc)/len(kfoldf1sc))\n",
    "print('Mean squared error media: ', sum(lista_mse)/len(lista_mse) )"
   ]
  },
  {
   "cell_type": "markdown",
   "id": "307670b7-fe68-469d-9ff9-7ce1d0b49820",
   "metadata": {},
   "source": [
    "Hacemos también hold out:"
   ]
  },
  {
   "cell_type": "code",
   "execution_count": 260,
   "id": "7b80207b-e751-4f7c-9358-bea2a307b4bb",
   "metadata": {},
   "outputs": [
    {
     "name": "stdout",
     "output_type": "stream",
     "text": [
      "accuracy medio:  0.7691428571428572\n",
      "F1-score media:  0.7683836159284972\n",
      "Mean squared error media:  0.740984126984127\n"
     ]
    }
   ],
   "source": [
    "# Aplico hold out\n",
    "lista_acc=[]\n",
    "lista_f1=[]\n",
    "lista_mse=[]\n",
    "for i in range(100):\n",
    "    X_train, X_test, y_train, y_test = train_test_split( X3, y, test_size=0.3)#, stratify=y)\n",
    "    clf = RandomForestClassifier()\n",
    "    clf.fit(X_train, y_train)\n",
    "    yhat = clf.predict(X_test)\n",
    "    lista_acc.append(accuracy_score(y_test,yhat))\n",
    "    lista_f1.append(f1_score(y_test,yhat,average='macro'))\n",
    "    lista_mse.append(mean_squared_error(y_test,yhat))\n",
    "print('accuracy medio: ', sum(lista_acc)/len(lista_acc))\n",
    "f1mean=sum(lista_f1)/len(lista_f1)\n",
    "print('F1-score media: ', f1mean)\n",
    "# print('Desviación estandar de la f1: ', (sum([(i-f1mean)**2 for i in lista_f1])/len(lista_f1))**(1/2))\n",
    "print('Mean squared error media: ', sum(lista_mse)/len(lista_mse) )"
   ]
  },
  {
   "cell_type": "markdown",
   "id": "ffbd9ece-449f-4ff5-be86-9292893ed9e3",
   "metadata": {},
   "source": [
    "Obtenemos una media de f1-score de 0.77 en la validación con un k-fold de 10 splits, con una mean squared error media del 0.71.\n",
    "\n",
    "Con hold out de 100, obtenemos una media de f1-socer de 0.76 y una mean squared error media de 0.74"
   ]
  },
  {
   "cell_type": "markdown",
   "id": "75538e5a-79e3-457a-a7db-2bdba1ad464a",
   "metadata": {},
   "source": [
    "#### RandomForest con parámetros por defecto tras aplicar PCA"
   ]
  },
  {
   "cell_type": "code",
   "execution_count": 263,
   "id": "cf93efab-0798-4d87-8c9e-a6b036e954d3",
   "metadata": {},
   "outputs": [],
   "source": [
    "pca = PCA(n_components=5)\n",
    "X_pca = pca.fit_transform(X)"
   ]
  },
  {
   "cell_type": "code",
   "execution_count": 264,
   "id": "88556088-ca9d-43ad-aea8-bea7f3eff840",
   "metadata": {},
   "outputs": [],
   "source": [
    "# Hacemos train_test_split:\n",
    "X_train, X_test, y_train, y_test = train_test_split(X_pca, y, test_size=0.3)"
   ]
  },
  {
   "cell_type": "code",
   "execution_count": 265,
   "id": "a7869ce8-fc9e-49d7-aa90-b5d5ee9e69b7",
   "metadata": {},
   "outputs": [
    {
     "name": "stdout",
     "output_type": "stream",
     "text": [
      "Accuracy:  0.7444444444444445\n",
      "F1-score:  0.7394268142584322\n",
      "Mean squared error:  0.7873015873015873\n"
     ]
    },
    {
     "data": {
      "text/plain": [
       "array([[113,  12,   8,   6,   0],\n",
       "       [ 10, 102,   8,   7,   0],\n",
       "       [ 16,  10,  69,  12,  18],\n",
       "       [  3,  16,   7,  81,  10],\n",
       "       [  2,   1,  10,   5, 104]], dtype=int64)"
      ]
     },
     "execution_count": 265,
     "metadata": {},
     "output_type": "execute_result"
    }
   ],
   "source": [
    "# Aplicamos RandomForest\n",
    "clf = RandomForestClassifier()\n",
    "clf = clf.fit(X_train, y_train)\n",
    "yhat = clf.predict(X_test)\n",
    "print('Accuracy: ', accuracy_score(y_test,yhat))\n",
    "print('F1-score: ', f1_score(y_test,yhat, average=\"macro\"))\n",
    "print('Mean squared error: ', mean_squared_error(y_test,yhat) )\n",
    "confusion_matrix(y_test, yhat)"
   ]
  },
  {
   "cell_type": "markdown",
   "id": "aaaf4358-ecbe-44df-8f45-f24485bf4e24",
   "metadata": {},
   "source": [
    "Obtenemos un f1-score de 0.73 y una mean squared error de 0.78"
   ]
  },
  {
   "cell_type": "markdown",
   "id": "4bd44465-1a44-4f3c-af64-605f0ac1d33f",
   "metadata": {},
   "source": [
    "Validamos el método con k-fold:"
   ]
  },
  {
   "cell_type": "code",
   "execution_count": 266,
   "id": "63835ac0-5afb-4b61-acd8-3d39b77af285",
   "metadata": {},
   "outputs": [
    {
     "name": "stdout",
     "output_type": "stream",
     "text": [
      "F1-score media:  0.7620509597396689\n",
      "Mean squared error media:  0.7771428571428572\n"
     ]
    }
   ],
   "source": [
    "Xarr = np.array(X_pca)\n",
    "kf = KFold(n_splits=10)\n",
    "kfoldf1sc = []\n",
    "lista_mse=[]\n",
    "for train_index, test_index in kf.split(Xarr, y):\n",
    "    X_train, X_test = Xarr[train_index], Xarr[test_index]\n",
    "    y_train, y_test = y[train_index], y[test_index]\n",
    "    clf1=RandomForestClassifier()\n",
    "    clf1 = clf1.fit(X_train, y_train)\n",
    "    yhat = clf1.predict(X_test)\n",
    "    kfoldf1sc.append(f1_score(y_test,yhat, average='macro'))\n",
    "    lista_mse.append(mean_squared_error(y_test,yhat))\n",
    "print('F1-score media: ', sum(kfoldf1sc)/len(kfoldf1sc))\n",
    "print('Mean squared error media: ', sum(lista_mse)/len(lista_mse) )"
   ]
  },
  {
   "cell_type": "markdown",
   "id": "573048bc-2429-413f-ad29-8d86d70e2cfc",
   "metadata": {},
   "source": [
    "Y aplicamos también hold out:"
   ]
  },
  {
   "cell_type": "code",
   "execution_count": 267,
   "id": "be22f222-3f6b-4d23-a181-45f96bbb9198",
   "metadata": {},
   "outputs": [
    {
     "name": "stdout",
     "output_type": "stream",
     "text": [
      "accuracy medio:  0.7542222222222225\n",
      "F1-score media:  0.753604643530452\n",
      "Mean squared error media:  0.817603174603175\n"
     ]
    }
   ],
   "source": [
    "# Aplico hold out\n",
    "lista_acc=[]\n",
    "lista_f1=[]\n",
    "lista_mse=[]\n",
    "for i in range(100):\n",
    "    X_train, X_test, y_train, y_test = train_test_split( X_pca, y, test_size=0.3)\n",
    "    clf = RandomForestClassifier()\n",
    "    clf.fit(X_train, y_train)\n",
    "    yhat = clf.predict(X_test)\n",
    "    #print(\"Accuracy: \", accuracy_score(y_test,yhat))\n",
    "    lista_acc.append(accuracy_score(y_test,yhat))\n",
    "    lista_f1.append(f1_score(y_test,yhat,average='macro'))\n",
    "    lista_mse.append(mean_squared_error(y_test,yhat))\n",
    "print('accuracy medio: ', sum(lista_acc)/len(lista_acc))\n",
    "f1mean=sum(lista_f1)/len(lista_f1)\n",
    "print('F1-score media: ', f1mean)\n",
    "# print('Desviación estandar de la f1: ', (sum([(i-f1mean)**2 for i in lista_f1])/len(lista_f1))**(1/2))\n",
    "print('Mean squared error media: ', sum(lista_mse)/len(lista_mse) )"
   ]
  },
  {
   "cell_type": "markdown",
   "id": "fdbe4219-7f78-4940-b834-ae63a08691b8",
   "metadata": {},
   "source": [
    "Obtenemos un f1-score media de 0.76 con una mean squared error media de 0.77 con k-fold"
   ]
  },
  {
   "cell_type": "markdown",
   "id": "56f7758c-42c2-4823-b82c-878c5b69d185",
   "metadata": {},
   "source": [
    "### Conclusiones"
   ]
  },
  {
   "cell_type": "markdown",
   "id": "93383a1f-20b2-4395-9a9d-bcc2e1a84433",
   "metadata": {},
   "source": [
    "Tras haber probado varias metodologías, el mejor resultado de f1-score lo obtenemos haciendo un RandomForest con los parámetros por defecto (Obtenemos un resultado equivalente al eliminar feature3, y empeora un poco al aplicar PCA con 5 componentes). Igualmente el error cuadrático medio no mejora cuando aplicamos otras configuraciones. Como dijimos antes, de cara a obtener un modelo que tenga menos fallos en los que estuviera muy seguro de acertar, sería interesante estudiar otras configuraciones con menos hojas por ejemplo."
   ]
  },
  {
   "cell_type": "markdown",
   "id": "25ad0653-db42-468f-9681-707442a488e4",
   "metadata": {},
   "source": [
    "De modo que finalmente, entrenamos el método elegido con toda la muestra train (jm_train) y predecimos las yhat para X_test (jm_X_test)"
   ]
  },
  {
   "cell_type": "code",
   "execution_count": 268,
   "id": "e134bfb8-b038-4153-9330-19db97000b20",
   "metadata": {},
   "outputs": [],
   "source": [
    "clf = RandomForestClassifier()\n",
    "clf = clf.fit(X, y)\n",
    "yhat = clf.predict(dfXtest)"
   ]
  },
  {
   "cell_type": "code",
   "execution_count": 269,
   "id": "7dc58ce3-dcb6-456b-89f5-2f01d763a995",
   "metadata": {},
   "outputs": [
    {
     "data": {
      "text/html": [
       "<div>\n",
       "<style scoped>\n",
       "    .dataframe tbody tr th:only-of-type {\n",
       "        vertical-align: middle;\n",
       "    }\n",
       "\n",
       "    .dataframe tbody tr th {\n",
       "        vertical-align: top;\n",
       "    }\n",
       "\n",
       "    .dataframe thead th {\n",
       "        text-align: right;\n",
       "    }\n",
       "</style>\n",
       "<table border=\"1\" class=\"dataframe\">\n",
       "  <thead>\n",
       "    <tr style=\"text-align: right;\">\n",
       "      <th></th>\n",
       "      <th>predicciones</th>\n",
       "    </tr>\n",
       "  </thead>\n",
       "  <tbody>\n",
       "    <tr>\n",
       "      <th>0</th>\n",
       "      <td>1</td>\n",
       "    </tr>\n",
       "    <tr>\n",
       "      <th>1</th>\n",
       "      <td>3</td>\n",
       "    </tr>\n",
       "    <tr>\n",
       "      <th>2</th>\n",
       "      <td>2</td>\n",
       "    </tr>\n",
       "    <tr>\n",
       "      <th>3</th>\n",
       "      <td>0</td>\n",
       "    </tr>\n",
       "    <tr>\n",
       "      <th>4</th>\n",
       "      <td>3</td>\n",
       "    </tr>\n",
       "    <tr>\n",
       "      <th>...</th>\n",
       "      <td>...</td>\n",
       "    </tr>\n",
       "    <tr>\n",
       "      <th>895</th>\n",
       "      <td>3</td>\n",
       "    </tr>\n",
       "    <tr>\n",
       "      <th>896</th>\n",
       "      <td>4</td>\n",
       "    </tr>\n",
       "    <tr>\n",
       "      <th>897</th>\n",
       "      <td>0</td>\n",
       "    </tr>\n",
       "    <tr>\n",
       "      <th>898</th>\n",
       "      <td>3</td>\n",
       "    </tr>\n",
       "    <tr>\n",
       "      <th>899</th>\n",
       "      <td>4</td>\n",
       "    </tr>\n",
       "  </tbody>\n",
       "</table>\n",
       "<p>900 rows × 1 columns</p>\n",
       "</div>"
      ],
      "text/plain": [
       "     predicciones\n",
       "0               1\n",
       "1               3\n",
       "2               2\n",
       "3               0\n",
       "4               3\n",
       "..            ...\n",
       "895             3\n",
       "896             4\n",
       "897             0\n",
       "898             3\n",
       "899             4\n",
       "\n",
       "[900 rows x 1 columns]"
      ]
     },
     "execution_count": 269,
     "metadata": {},
     "output_type": "execute_result"
    }
   ],
   "source": [
    "dfyhat=pd.DataFrame()\n",
    "dfyhat['predicciones']=yhat\n",
    "dfyhat"
   ]
  },
  {
   "cell_type": "code",
   "execution_count": 270,
   "id": "5f414b5a-4730-4ca6-84c1-d921ddd06525",
   "metadata": {},
   "outputs": [],
   "source": [
    "# Exportamos a archivo .csv"
   ]
  },
  {
   "cell_type": "code",
   "execution_count": 271,
   "id": "2a5a2e35-673d-4a3a-a7ce-71a25ac1843d",
   "metadata": {},
   "outputs": [],
   "source": [
    "dfyhat.to_csv(\"predicciones.csv\", index=False)"
   ]
  }
 ],
 "metadata": {
  "kernelspec": {
   "display_name": "Python 3",
   "language": "python",
   "name": "python3"
  },
  "language_info": {
   "codemirror_mode": {
    "name": "ipython",
    "version": 3
   },
   "file_extension": ".py",
   "mimetype": "text/x-python",
   "name": "python",
   "nbconvert_exporter": "python",
   "pygments_lexer": "ipython3",
   "version": "3.8.8"
  }
 },
 "nbformat": 4,
 "nbformat_minor": 5
}
